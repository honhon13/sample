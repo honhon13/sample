{
  "nbformat": 4,
  "nbformat_minor": 0,
  "metadata": {
    "colab": {
      "provenance": [],
      "include_colab_link": true
    },
    "kernelspec": {
      "name": "python3",
      "display_name": "Python 3"
    },
    "language_info": {
      "name": "python"
    }
  },
  "cells": [
    {
      "cell_type": "markdown",
      "metadata": {
        "id": "view-in-github",
        "colab_type": "text"
      },
      "source": [
        "<a href=\"https://colab.research.google.com/github/honhon13/sample/blob/main/Deep_Learning_Lab.ipynb\" target=\"_parent\"><img src=\"https://colab.research.google.com/assets/colab-badge.svg\" alt=\"Open In Colab\"/></a>"
      ]
    },
    {
      "cell_type": "markdown",
      "source": [
        "#Design and training of your own neural network"
      ],
      "metadata": {
        "id": "tsp_YtysjbrV"
      }
    },
    {
      "cell_type": "markdown",
      "source": [
        "In the following lab, we want to recreate the playground we just learned about using the PyTorch package. We thus learn tensors, which is the tool of choice for training neural networks, and try to better understand the structure of a neural network. The aim of this lab should be that you now try to recreate the neural network you have previously built yourself. You are welcome to work on the lab alone or with your neighbor. Ok, let's get started!\n",
        "\n",
        "# Generation of data\n",
        "\n",
        "Depending on whether you have chosen a classification problem or a regression problem, we should rebuild the corresponding data set.\n",
        "\n",
        "I have decided on a binary classification problem and would now like to rebuild the data set with the circle and the ring. I use the `sklearn` package for this:"
      ],
      "metadata": {
        "id": "xtPWcVujvfMI"
      }
    },
    {
      "cell_type": "code",
      "execution_count": 1,
      "metadata": {
        "id": "94BDgPuB8E4g"
      },
      "outputs": [],
      "source": [
        "from sklearn.datasets import make_circles\n",
        "from sklearn.model_selection import train_test_split\n",
        "\n",
        "X, y = make_circles(n_samples=10000, noise=0.05, random_state=42)\n",
        "X_train, X_test, y_train, y_test = train_test_split(X, y, test_size=.10, random_state=42)"
      ]
    },
    {
      "cell_type": "code",
      "source": [],
      "metadata": {
        "id": "8JDD0I7X8HoM"
      },
      "execution_count": null,
      "outputs": []
    },
    {
      "cell_type": "markdown",
      "source": [
        "To get a better understanding of your data, please 1) decide which data you would like to select. (You can also use the circle/ring in the first step and then try to select a different data set in the next step). 2) To get a better idea of your data, I ask you to visualize it.\n",
        "\n",
        "Further dataset generators can be found under the following link: https://scikit-learn.org/stable/datasets/sample_generators.html"
      ],
      "metadata": {
        "id": "AU4BXbPtzWoB"
      }
    },
    {
      "cell_type": "code",
      "source": [
        "import tensorflow as tf\n",
        "import numpy as np\n",
        "import matplotlib.pyplot as plt\n",
        "\n",
        "# Define the custom dense layer\n",
        "class MyDenseLayer(tf.keras.layers.Layer):\n",
        "    def __init__(self, input_dim, output_dim):\n",
        "        super(MyDenseLayer, self).__init__()\n",
        "        self.W = self.add_weight(\n",
        "            shape=(input_dim, output_dim),\n",
        "            initializer=\"random_normal\",\n",
        "            trainable=True\n",
        "        )\n",
        "        self.b = self.add_weight(\n",
        "            shape=(output_dim,),\n",
        "            initializer=\"zeros\",\n",
        "            trainable=True\n",
        "        )\n",
        "\n",
        "    def call(self, inputs):\n",
        "        z = tf.matmul(inputs, self.W) + self.b\n",
        "        return z  # Return the computed value\n",
        "\n",
        "# Step 1: Generate random input data\n",
        "input_dim = 2\n",
        "output_dim = 2\n",
        "num_samples = 100\n",
        "\n",
        "# Random data points\n",
        "input_data = np.random.rand(num_samples, input_dim)\n",
        "\n",
        "# Step 2: Initialize the custom layer\n",
        "dense_layer = MyDenseLayer(input_dim=input_dim, output_dim=output_dim)\n",
        "\n",
        "# Apply the custom layer to the input data\n",
        "output_data = dense_layer(input_data).numpy()\n",
        "\n",
        "# Step 3: Visualize the data\n",
        "def visualize_data(input_data, output_data):\n",
        "    plt.figure(figsize=(12, 6))\n",
        "\n",
        "    # Input Data\n",
        "    plt.subplot(1, 2, 1)\n",
        "    plt.scatter(input_data[:, 0], input_data[:, 1], c='blue', label='Input Data')\n",
        "    plt.title(\"Input Data\")\n",
        "    plt.xlabel(\"Feature 1\")\n",
        "    plt.ylabel(\"Feature 2\")\n",
        "    plt.legend()\n",
        "\n",
        "    # Output Data\n",
        "    plt.subplot(1, 2, 2)\n",
        "    plt.scatter(output_data[:, 0], output_data[:, 1], c='red', label='Output Data')\n",
        "    plt.title(\"Output Data\")\n",
        "    plt.xlabel(\"Feature 1\")\n",
        "    plt.ylabel(\"Feature 2\")\n",
        "    plt.legend()\n",
        "\n",
        "    plt.tight_layout()\n",
        "    plt.show()\n",
        "\n",
        "# Visualize the data\n",
        "visualize_data(input_data, output_data)"
      ],
      "metadata": {
        "id": "foa-TASj8KJ6",
        "outputId": "75a2848f-b42c-4bc1-9369-efcc12aba25f",
        "colab": {
          "base_uri": "https://localhost:8080/",
          "height": 607
        }
      },
      "execution_count": 4,
      "outputs": [
        {
          "output_type": "display_data",
          "data": {
            "text/plain": [
              "<Figure size 1200x600 with 2 Axes>"
            ],
            "image/png": "[encoded data removed]"
          },
          "metadata": {}
        }
      ]
    },
    {
      "cell_type": "code",
      "source": [
        "# YOUR TASK\n",
        "import tensorflow as tf\n",
        "\n",
        "class MyDenseLayer(tf.keras.layers.Layer):\n",
        "  def __init__(self,input_dim, output_dim):\n",
        "    super(MyDenseLayer, self).__init__()\n",
        "\n",
        "self.W = self.add_weight([input_dim, output_dim])\n",
        "self.b = self.add_weight([1, output_dim])\n",
        "\n",
        "def call(self, inputs):\n",
        "  z = tf.matmul(inputs, self.W) + self.b\n",
        "\n",
        "\n"
      ],
      "metadata": {
        "id": "9uA6DFF00Nlw",
        "outputId": "55be78bc-bc40-4a54-d6df-c2d35c3982d5",
        "colab": {
          "base_uri": "https://localhost:8080/",
          "height": 207
        }
      },
      "execution_count": 2,
      "outputs": [
        {
          "output_type": "error",
          "ename": "NameError",
          "evalue": "name 'self' is not defined",
          "traceback": [
            "\u001b[0;31m---------------------------------------------------------------------------\u001b[0m",
            "\u001b[0;31mNameError\u001b[0m                                 Traceback (most recent call last)",
            "\u001b[0;32m<ipython-input-2-2bc83ef8b1c7>\u001b[0m in \u001b[0;36m<cell line: 0>\u001b[0;34m()\u001b[0m\n\u001b[1;32m      6\u001b[0m     \u001b[0msuper\u001b[0m\u001b[0;34m(\u001b[0m\u001b[0mMyDenseLayer\u001b[0m\u001b[0;34m,\u001b[0m \u001b[0mself\u001b[0m\u001b[0;34m)\u001b[0m\u001b[0;34m.\u001b[0m\u001b[0m__init__\u001b[0m\u001b[0;34m(\u001b[0m\u001b[0;34m)\u001b[0m\u001b[0;34m\u001b[0m\u001b[0;34m\u001b[0m\u001b[0m\n\u001b[1;32m      7\u001b[0m \u001b[0;34m\u001b[0m\u001b[0m\n\u001b[0;32m----> 8\u001b[0;31m \u001b[0mself\u001b[0m\u001b[0;34m.\u001b[0m\u001b[0mW\u001b[0m \u001b[0;34m=\u001b[0m \u001b[0mself\u001b[0m\u001b[0;34m.\u001b[0m\u001b[0madd_weight\u001b[0m\u001b[0;34m(\u001b[0m\u001b[0;34m[\u001b[0m\u001b[0minput_dim\u001b[0m\u001b[0;34m,\u001b[0m \u001b[0moutput_dim\u001b[0m\u001b[0;34m]\u001b[0m\u001b[0;34m)\u001b[0m\u001b[0;34m\u001b[0m\u001b[0;34m\u001b[0m\u001b[0m\n\u001b[0m\u001b[1;32m      9\u001b[0m \u001b[0mself\u001b[0m\u001b[0;34m.\u001b[0m\u001b[0mb\u001b[0m \u001b[0;34m=\u001b[0m \u001b[0mself\u001b[0m\u001b[0;34m.\u001b[0m\u001b[0madd_weight\u001b[0m\u001b[0;34m(\u001b[0m\u001b[0;34m[\u001b[0m\u001b[0;36m1\u001b[0m\u001b[0;34m,\u001b[0m \u001b[0moutput_dim\u001b[0m\u001b[0;34m]\u001b[0m\u001b[0;34m)\u001b[0m\u001b[0;34m\u001b[0m\u001b[0;34m\u001b[0m\u001b[0m\n\u001b[1;32m     10\u001b[0m \u001b[0;34m\u001b[0m\u001b[0m\n",
            "\u001b[0;31mNameError\u001b[0m: name 'self' is not defined"
          ]
        }
      ]
    },
    {
      "cell_type": "markdown",
      "source": [
        "#Tensors"
      ],
      "metadata": {
        "id": "Us4_i5nMyzs8"
      }
    },
    {
      "cell_type": "markdown",
      "source": [
        "PyTorch relies on tensors (https://pytorch.org/docs/stable/tensors.html) to manipulate and process data during training, a concept we'll delve deeper into.\n",
        "\n",
        "Tensors are the fundamental building block of machine learning.\n",
        "\n",
        "Their job is to represent data in a numerical way.\n",
        "\n",
        "For example, you could represent an image as a tensor with shape `[3, 224, 224]` which would mean `[colour_channels, height, width]`, as in the image has `3` colour channels (red, green, blue), a height of `224` pixels and a width of `224` pixels.\n",
        "\n",
        "![example of going from an input image to a tensor representation of the image, image gets broken down into 3 colour channels as well as numbers to represent the height and width](https://raw.githubusercontent.com/mrdbourke/pytorch-deep-learning/main/images/00-tensor-shape-example-of-image.png)\n",
        "\n",
        "In tensor-speak (the language used to describe tensors), the tensor would have three dimensions, one for `colour_channels`, `height` and `width`.\n",
        "\n",
        "Let's create some tensors and check their dimension and shape! Therefore I ask you to work together in pairs and try to find out which information is returned with the methods (ndim, shape, item) of the class tensor. Go through line by line and try to understand the output behind it."
      ],
      "metadata": {
        "id": "gTcpN78V2WUJ"
      }
    },
    {
      "cell_type": "code",
      "source": [
        "import torch\n",
        "# Scalar\n",
        "scalar = torch.tensor(7)\n",
        "\n",
        "print(\"------------\")\n",
        "print(\"Scalar:\")\n",
        "print(scalar)\n",
        "print(scalar.ndim)\n",
        "print(scalar.shape)\n",
        "print(scalar.item())\n",
        "print(\"------------\")\n",
        "\n",
        "# Vector\n",
        "vector = torch.tensor([1, 2, 3, 4, 5])\n",
        "vector[1]\n",
        "\n",
        "print(\"Vector:\")\n",
        "print(vector)\n",
        "print(vector.ndim)\n",
        "print(vector.shape)\n",
        "print(vector[3].item())\n",
        "print(\"------------\")\n",
        "\n",
        "# Matrix\n",
        "MATRIX = torch.tensor([[7, 8],\n",
        "                       [9, 10]])\n",
        "print(\"Matrix:\")\n",
        "print(MATRIX)\n",
        "print(MATRIX.ndim)\n",
        "print(MATRIX.shape)\n",
        "print(MATRIX[1][1].item())\n",
        "print(\"------------\")\n",
        "\n",
        "# Tensor\n",
        "TENSOR = torch.tensor([[[1, 2, 3],\n",
        "                        [3, 6, 9],\n",
        "                        [2, 4, 5]]])\n",
        "print(\"Tensor:\")\n",
        "print(TENSOR)\n",
        "print(TENSOR.ndim)\n",
        "print(TENSOR.shape)\n",
        "print(TENSOR[0][2][2].item())\n",
        "print(\"------------\")"
      ],
      "metadata": {
        "id": "Vxkcmyi44m55",
        "outputId": "5a2c660a-e718-40dc-eb1f-b75ded3ad53e",
        "colab": {
          "base_uri": "https://localhost:8080/"
        }
      },
      "execution_count": null,
      "outputs": [
        {
          "output_type": "stream",
          "name": "stdout",
          "text": [
            "------------\n",
            "Scalar:\n",
            "tensor(7)\n",
            "0\n",
            "torch.Size([])\n",
            "7\n",
            "------------\n",
            "Vector:\n",
            "tensor([1, 2, 3, 4, 5])\n",
            "1\n",
            "torch.Size([5])\n",
            "4\n",
            "------------\n",
            "Matrix:\n",
            "tensor([[ 7,  8],\n",
            "        [ 9, 10]])\n",
            "2\n",
            "torch.Size([2, 2])\n",
            "10\n",
            "------------\n",
            "Tensor:\n",
            "tensor([[[1, 2, 3],\n",
            "         [3, 6, 9],\n",
            "         [2, 4, 5]]])\n",
            "3\n",
            "torch.Size([1, 3, 3])\n",
            "5\n",
            "------------\n"
          ]
        }
      ]
    },
    {
      "cell_type": "code",
      "source": [
        "T = torch.tensor([[[[1, 2, 3],[3, 6, 9],[2, 4, 5]]]])\n",
        "T.shape"
      ],
      "metadata": {
        "colab": {
          "base_uri": "https://localhost:8080/"
        },
        "id": "tmdFkb1b8dbY",
        "outputId": "e31fbf95-0a6e-406b-df28-ec8fae41b89d"
      },
      "execution_count": null,
      "outputs": [
        {
          "output_type": "execute_result",
          "data": {
            "text/plain": [
              "torch.Size([1, 1, 3, 3])"
            ]
          },
          "metadata": {},
          "execution_count": 4
        }
      ]
    },
    {
      "cell_type": "markdown",
      "source": [
        "Ok let's summarize what tensors are with the last example, whose outputs `torch.Size([1, 3, 3])`.\n",
        "\n",
        "The dimensions go outer to inner.\n",
        "\n",
        "That means there's 1 dimension of 3 by 3.\n",
        "\n",
        "![example of different tensor dimensions](https://raw.githubusercontent.com/mrdbourke/pytorch-deep-learning/main/images/00-pytorch-different-tensor-dimensions.png)\n",
        "\n",
        "> **Note:** You might've noticed me using lowercase letters for `scalar` and `vector` and uppercase letters for `MATRIX` and `TENSOR`. This was on purpose. In practice, you'll often see scalars and vectors denoted as lowercase letters such as `y` or `a`. And matrices and tensors denoted as uppercase letters such as `X` or `W`.\n",
        ">\n",
        "> You also might notice the names martrix and tensor used interchangably. This is common. Since in PyTorch you're often dealing with `torch.Tensor` (hence the tensor name), however, the shape and dimensions of what's inside will dictate what it actually is.\n",
        "\n",
        "Let's summarise.\n",
        "\n",
        "| Name | What is it? | Number of dimensions | Lower or upper (usually/example) |\n",
        "| ----- | ----- | ----- | ----- |\n",
        "| **scalar** | a single number | 0 | Lower (`a`) |\n",
        "| **vector** | a number with direction, but can also have many other numbers | 1 | Lower (`y`) |\n",
        "| **matrix** | a 2-dimensional array of numbers | 2 | Upper (`Q`) |\n",
        "| **tensor** | an n-dimensional array of numbers | can be any number, a 0-dimension tensor is a scalar, a 1-dimension tensor is a vector | Upper (`X`) |"
      ],
      "metadata": {
        "id": "ncllf3gW7aoy"
      }
    },
    {
      "cell_type": "markdown",
      "source": [
        "##What is a major advantage of using tensors?\n",
        "\n",
        "A tensor can be created with `requires_grad=True` so that torch.autograd records operations on them for automatic differentiation. Take a look at the following example:"
      ],
      "metadata": {
        "id": "zUigE9J2CBIi"
      }
    },
    {
      "cell_type": "code",
      "source": [
        "x = torch.tensor([[1., -1.], [1., 1.]], requires_grad=True)\n",
        "# We create a function out: R^(2,2) -> R\n",
        "out = x.pow(2).sum()\n",
        "# And determine the first derivative in all directions of the tensor.\n",
        "out.backward()\n",
        "# The gradient created is stored in the tensor.\n",
        "x.grad"
      ],
      "metadata": {
        "id": "5fyW_-72Ci4S",
        "colab": {
          "base_uri": "https://localhost:8080/"
        },
        "outputId": "7d37c634-852b-4711-dd71-54fd152e6dbf"
      },
      "execution_count": null,
      "outputs": [
        {
          "output_type": "execute_result",
          "data": {
            "text/plain": [
              "tensor([[ 2., -2.],\n",
              "        [ 2.,  2.]])"
            ]
          },
          "metadata": {},
          "execution_count": 5
        }
      ]
    },
    {
      "cell_type": "markdown",
      "source": [
        "As you think about the content you worked on earlier, discuss where this could be a big advantage!"
      ],
      "metadata": {
        "id": "YjIiYp2YEjtF"
      }
    },
    {
      "cell_type": "markdown",
      "source": [
        "#Preparation of the data"
      ],
      "metadata": {
        "id": "VTEmEZY63-PJ"
      }
    },
    {
      "cell_type": "markdown",
      "source": [
        "Our goal now is to convert our data into tensors, which we achieve by creating our own class `Data`. This class is inherited from the superclass `Dataset`. The `__init__` constructor, is used in Python to initialize objects of a class. `X` is the input to the model and `y` are the labels. `__getitem__` is a method that allow us to to get an item of our training dataset.\n",
        "\n",
        "Look at the code and try to understand what happens in the class and also look at the code afterwards.\n",
        "\n",
        "Discuss with your partner what happens with our training data. Why do we need batches? Try to connect this to the lecture you listened to before.\n"
      ],
      "metadata": {
        "id": "hzLnXYlrfQ2H"
      }
    },
    {
      "cell_type": "code",
      "source": [
        "import torch\n",
        "import numpy as np\n",
        "from torch.utils.data import Dataset, DataLoader\n",
        "\n",
        "# Convert data to torch tensors\n",
        "class Data(Dataset):\n",
        "    def __init__(self, X, y):\n",
        "        self.X = torch.from_numpy(X.astype(np.float32))\n",
        "        self.y = torch.from_numpy(y.astype(np.float32))\n",
        "        self.len = self.X.shape[0]\n",
        "\n",
        "    def __getitem__(self, index):\n",
        "        return self.X[index], self.y[index]\n",
        "\n",
        "    def __len__(self):\n",
        "        return self.len\n",
        "\n",
        "batch_size = 64\n",
        "\n",
        "# Instantiate training and test data\n",
        "train_data = Data(X_train, y_train)\n",
        "train_dataloader = DataLoader(dataset=train_data, batch_size=batch_size, shuffle=True)\n",
        "\n",
        "test_data = Data(X_test, y_test)\n",
        "test_dataloader = DataLoader(dataset=test_data, batch_size=batch_size, shuffle=True)\n",
        "\n",
        "# Check it's working\n",
        "for batch, (X, y) in enumerate(train_dataloader):\n",
        "    print(f\"Batch: {batch}\")\n",
        "    print(f\"Shape of X: {X.shape}\")\n",
        "    print(f\"Shape of y: {y.shape}\")\n",
        "    if batch == 4:\n",
        "      break"
      ],
      "metadata": {
        "id": "btRFX3qf8jTp",
        "colab": {
          "base_uri": "https://localhost:8080/"
        },
        "outputId": "d8975b5d-08d7-4ff6-a7f6-cd1fdcf5542d"
      },
      "execution_count": null,
      "outputs": [
        {
          "output_type": "stream",
          "name": "stdout",
          "text": [
            "Batch: 0\n",
            "Shape of X: torch.Size([64, 2])\n",
            "Shape of y: torch.Size([64])\n",
            "Batch: 1\n",
            "Shape of X: torch.Size([64, 2])\n",
            "Shape of y: torch.Size([64])\n",
            "Batch: 2\n",
            "Shape of X: torch.Size([64, 2])\n",
            "Shape of y: torch.Size([64])\n",
            "Batch: 3\n",
            "Shape of X: torch.Size([64, 2])\n",
            "Shape of y: torch.Size([64])\n",
            "Batch: 4\n",
            "Shape of X: torch.Size([64, 2])\n",
            "Shape of y: torch.Size([64])\n"
          ]
        }
      ]
    },
    {
      "cell_type": "markdown",
      "source": [
        "#Model Architecture\n",
        "The following code now creates the architecture of our model. Here I ask you to be creative and implement the same model as you have created in the Playground. Please work together again and try to understand every line of code for the first time. I have tried to document the code as well as possible. After that you can build your own model by adjusting the dimensions, adding layers, etc.\n",
        "\n",
        "Our neural network is also designed as a separate class, which is inherited from the `nn.module` class. The layers including their dimensions and their initialization are determined in the constructor. In the forward process, you define how the layer and activation functions are executed one after the other."
      ],
      "metadata": {
        "id": "LyjLCjNnjZ1g"
      }
    },
    {
      "cell_type": "code",
      "source": [
        "import torch\n",
        "from torch import nn\n",
        "from torch import optim\n",
        "\n",
        "input_dim = 2 # Dimension of the input = amount of features, which is in our case x_1 and x_2.\n",
        "output_dim = 1 # Dimension of the output = 1, since we have a binary classification.\n",
        "\n",
        "class NeuralNetwork(nn.Module):\n",
        "    def __init__(self, input_dim, output_dim):\n",
        "        super().__init__()\n",
        "        # Defininition of several layers\n",
        "        self.layer_1 = nn.Linear(input_dim, 10)\n",
        "        self.layer_2 = nn.Linear(10, 10)\n",
        "        self.layer_3 = nn.Linear(10, output_dim)\n",
        "        # Random Initialization of the weights -> Can be done, we try it without!\n",
        "        # nn.init.normal_(self.layer_1.weight, mean=0, std=0.01)\n",
        "        # nn.init.normal_(self.layer_1.bias, mean=0, std=0.01)\n",
        "\n",
        "    # Definition of the forward process, including the interaction of layers and the activation functions\n",
        "    def forward(self, x):\n",
        "        x = self.layer_1(x)\n",
        "        x = torch.nn.functional.relu(x)\n",
        "        x = self.layer_2(x)\n",
        "        x = torch.nn.functional.relu(x)\n",
        "        x = self.layer_3(x)\n",
        "        # The last activation function should be suitable to our problem!!\n",
        "        # (eg. sigmoid for binary classifcation, softmax for multi-class classification...)\n",
        "        x = torch.nn.functional.sigmoid(x)\n",
        "        return x\n",
        "\n",
        "model = NeuralNetwork(input_dim, output_dim)\n",
        "print(model)\n"
      ],
      "metadata": {
        "id": "lQk_479x8z0n",
        "colab": {
          "base_uri": "https://localhost:8080/"
        },
        "outputId": "c78918c1-deea-4548-b922-c7d957c999ad"
      },
      "execution_count": null,
      "outputs": [
        {
          "output_type": "stream",
          "name": "stdout",
          "text": [
            "NeuralNetwork(\n",
            "  (layer_1): Linear(in_features=2, out_features=10, bias=True)\n",
            "  (layer_2): Linear(in_features=10, out_features=10, bias=True)\n",
            "  (layer_3): Linear(in_features=10, out_features=1, bias=True)\n",
            ")\n"
          ]
        }
      ]
    },
    {
      "cell_type": "markdown",
      "source": [
        "For your task, I suggest that you do some research on the most common activation functions used for different tasks. Choose two significant ones that apply to your problem and try to visualize them."
      ],
      "metadata": {
        "id": "M26BfPLuPdDT"
      }
    },
    {
      "cell_type": "code",
      "source": [
        "# YOUR TASK"
      ],
      "metadata": {
        "id": "P5r-qtsXSInN"
      },
      "execution_count": null,
      "outputs": []
    },
    {
      "cell_type": "markdown",
      "source": [
        "#Definition loss function and learning rate"
      ],
      "metadata": {
        "id": "WVwRpwcRTqaO"
      }
    },
    {
      "cell_type": "markdown",
      "source": [
        "In the next lines, we determine how to optimize the parameters of the neural network. To do this, we select a learning rate, a suitable loss function (this must be suitable for our problem, e.g. for regression we should use `torch.nn.L1Loss` or `torch.nn.MSELoss`)."
      ],
      "metadata": {
        "id": "abuoo_sqUpg-"
      }
    },
    {
      "cell_type": "code",
      "source": [
        "learning_rate = 0.05\n",
        "\n",
        "# The loss function must be suitable for our classification/regression problem!\n",
        "loss_function = nn.BCELoss()\n",
        "\n",
        "optimizer = torch.optim.SGD(model.parameters(), lr=learning_rate)"
      ],
      "metadata": {
        "id": "ZjFcmSuH-GF4"
      },
      "execution_count": null,
      "outputs": []
    },
    {
      "cell_type": "code",
      "source": [
        "# Hint:\n",
        "# You can try a different optimizer, if SGD won't minimize your loss!\n",
        "# learning_rate = 0.001\n",
        "# optimizer = torch.optim.Adam(model.parameters(), lr=learning_rate)"
      ],
      "metadata": {
        "id": "DbGrJIYP64rD"
      },
      "execution_count": null,
      "outputs": []
    },
    {
      "cell_type": "markdown",
      "source": [
        "#Training\n",
        "\n",
        "Let's proceed with training our neural network! The variable `num_epochs` denotes the total number of complete passes through all the data during the training process. `loss_values` stores the loss values by appending them to the list.\n",
        "\n",
        "**Task:**\n",
        "\n",
        "\n",
        "* Try to go through the code and understand every line.\n",
        "* Research what happens to the tensor with `y.unsqueeze(-1)`.\n",
        "* After your neural network has completed training, please visualize the loss graphically, with the epochs on the x-axis.\n",
        "\n"
      ],
      "metadata": {
        "id": "V6XmmmSJWOJw"
      }
    },
    {
      "cell_type": "code",
      "source": [
        "num_epochs = 100\n",
        "loss_values = []\n",
        "\n",
        "for epoch in range(num_epochs):\n",
        "    for X, y in train_dataloader:\n",
        "        # zero the parameter gradients\n",
        "        optimizer.zero_grad()\n",
        "\n",
        "        # forward + backward + optimize\n",
        "        pred = model(X)\n",
        "        loss = loss_function(pred, y.unsqueeze(-1))\n",
        "        # adding loss to our list\n",
        "        loss_values.append(loss.item())\n",
        "        # computation of derivatives (backpropagation)\n",
        "        loss.backward()\n",
        "        # changing parameters of the model (optimize)\n",
        "        optimizer.step()\n",
        "\n",
        "print(\"Training Complete!\")"
      ],
      "metadata": {
        "id": "SuSQzxB2_FL2"
      },
      "execution_count": null,
      "outputs": []
    },
    {
      "cell_type": "code",
      "source": [
        "# Your Task"
      ],
      "metadata": {
        "id": "cjS684uNX11D"
      },
      "execution_count": null,
      "outputs": []
    },
    {
      "cell_type": "markdown",
      "source": [
        "#Testing our model\n",
        "\n",
        "We'd now like to evaluate our model on the test dataset to measure its accuracy in predicting new data. Establishing a reliable measure is crucial; in binary classification scenarios like ours, accuracy serves as a simple indicator. It involves counting the number of correct predictions against the number of incorrect predictions."
      ],
      "metadata": {
        "id": "L_Sjk0FwIGCF"
      }
    },
    {
      "cell_type": "code",
      "source": [
        "total = 0\n",
        "correct = 0\n",
        "\n",
        "with torch.no_grad():\n",
        "    for X, y in test_dataloader:\n",
        "        outputs = model(X)\n",
        "        predicted = [0 if val < 0.5 else 1 for val in outputs.numpy()]\n",
        "        total += y.size(0)\n",
        "        correct += (predicted == y.numpy()).sum().item()\n",
        "\n",
        "print(f'Accuracy of the network on the {total} test instances: {100 * correct // total}%')"
      ],
      "metadata": {
        "id": "iqAWA0-WJae2"
      },
      "execution_count": null,
      "outputs": []
    },
    {
      "cell_type": "markdown",
      "source": [
        "When you have solved all the tasks and you are satisfied with your model, please upload your solution via Git-Lab :)"
      ],
      "metadata": {
        "id": "5_T3Ou9NT1UG"
      }
    }
  ]
}