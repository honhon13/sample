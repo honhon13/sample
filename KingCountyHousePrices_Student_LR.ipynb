{
  "nbformat": 4,
  "nbformat_minor": 0,
  "metadata": {
    "colab": {
      "provenance": [],
      "include_colab_link": true
    },
    "kernelspec": {
      "name": "python3",
      "display_name": "Python 3"
    },
    "language_info": {
      "name": "python"
    }
  },
  "cells": [
    {
      "cell_type": "markdown",
      "metadata": {
        "id": "view-in-github",
        "colab_type": "text"
      },
      "source": [
        "<a href=\"https://colab.research.google.com/github/honhon13/sample/blob/main/KingCountyHousePrices_Student_LR.ipynb\" target=\"_parent\"><img src=\"https://colab.research.google.com/assets/colab-badge.svg\" alt=\"Open In Colab\"/></a>"
      ]
    },
    {
      "cell_type": "markdown",
      "source": [
        "#A machine learning approach from A to Z\n",
        "\n",
        "The following machine learning project is derived from Chapter 2 of the book *Hands-On Machine Learning with Scikit-Learn, Keras & TensorFlow*. The basic concepts in Chapter 1 are useful, and it is recommended that you read Chapter 2 to further consolidate your knowledge.\n",
        "\n",
        "Ok! Let's get started!\n",
        "\n",
        "##Framing the problem\n",
        "Your task is to build a machine learning model that predicts house prices in King County, an area in the US state of Washington. Your model should learn from the given data and be able to predict new home prices using the given metrics. Let's take a look at our given dataset:"
      ],
      "metadata": {
        "id": "v10yoQjR2ns5"
      }
    },
    {
      "cell_type": "markdown",
      "source": [
        "The following code imports some packages, mounts the Google Drive folder and loads the data. Run the code and adapt the file paths!"
      ],
      "metadata": {
        "id": "PAICR2qXyXTr"
      }
    },
    {
      "cell_type": "code",
      "execution_count": 5,
      "metadata": {
        "id": "GoSAWWcmvXJp",
        "colab": {
          "base_uri": "https://localhost:8080/",
          "height": 442
        },
        "outputId": "536a8aa5-129c-4721-9e39-ff188b668f27"
      },
      "outputs": [
        {
          "output_type": "stream",
          "name": "stdout",
          "text": [
            "Drive already mounted at /content/drive; to attempt to forcibly remount, call drive.mount(\"/content/drive\", force_remount=True).\n",
            "Warning: Total number of columns (21) exceeds max_columns (20). Falling back to pandas display.\n"
          ]
        },
        {
          "output_type": "execute_result",
          "data": {
            "text/plain": [
              "           id        date      price  bedrooms  bathrooms  sqft_living  \\\n",
              "0  7129300520  10/13/2014   221900.0         3       1.00         1180   \n",
              "1  6414100192   12/9/2014   538000.0         3       2.25         2570   \n",
              "2  5631500400   2/25/2015   180000.0         2       1.00          770   \n",
              "3  2487200875   12/9/2014   604000.0         4       3.00         1960   \n",
              "4  1954400510   2/18/2015   510000.0         3       2.00         1680   \n",
              "5  7237550310   5/12/2014  1230000.0         4       4.50         5420   \n",
              "6  1321400060   6/27/2014   257500.0         3       2.25         1715   \n",
              "7  2008000270   1/15/2015   291850.0         3       1.50         1060   \n",
              "8  2414600126   4/15/2015   229500.0         3       1.00         1780   \n",
              "9  3793500160   3/12/2015   323000.0         3       2.50         1890   \n",
              "\n",
              "   sqft_lot  floors  waterfront  view  ...  grade  sqft_above  sqft_basement  \\\n",
              "0      5650     1.0         NaN   0.0  ...      7        1180            0.0   \n",
              "1      7242     2.0         0.0   0.0  ...      7        2170          400.0   \n",
              "2     10000     1.0         0.0   0.0  ...      6         770            0.0   \n",
              "3      5000     1.0         0.0   0.0  ...      7        1050          910.0   \n",
              "4      8080     1.0         0.0   0.0  ...      8        1680            0.0   \n",
              "5    101930     1.0         0.0   0.0  ...     11        3890         1530.0   \n",
              "6      6819     2.0         0.0   0.0  ...      7        1715              ?   \n",
              "7      9711     1.0         0.0   NaN  ...      7        1060            0.0   \n",
              "8      7470     1.0         0.0   0.0  ...      7        1050          730.0   \n",
              "9      6560     2.0         0.0   0.0  ...      7        1890            0.0   \n",
              "\n",
              "  yr_built  yr_renovated  zipcode      lat     long  sqft_living15  sqft_lot15  \n",
              "0     1955           0.0    98178  47.5112 -122.257           1340        5650  \n",
              "1     1951        1991.0    98125  47.7210 -122.319           1690        7639  \n",
              "2     1933           NaN    98028  47.7379 -122.233           2720        8062  \n",
              "3     1965           0.0    98136  47.5208 -122.393           1360        5000  \n",
              "4     1987           0.0    98074  47.6168 -122.045           1800        7503  \n",
              "5     2001           0.0    98053  47.6561 -122.005           4760      101930  \n",
              "6     1995           0.0    98003  47.3097 -122.327           2238        6819  \n",
              "7     1963           0.0    98198  47.4095 -122.315           1650        9711  \n",
              "8     1960           0.0    98146  47.5123 -122.337           1780        8113  \n",
              "9     2003           0.0    98038  47.3684 -122.031           2390        7570  \n",
              "\n",
              "[10 rows x 21 columns]"
            ],
            "text/html": [
              "\n",
              "  <div id=\"df-4e3c0ba3-1ea8-4fce-aec0-20c54e6bb83f\" class=\"colab-df-container\">\n",
              "    <div>\n",
              "<style scoped>\n",
              "    .dataframe tbody tr th:only-of-type {\n",
              "        vertical-align: middle;\n",
              "    }\n",
              "\n",
              "    .dataframe tbody tr th {\n",
              "        vertical-align: top;\n",
              "    }\n",
              "\n",
              "    .dataframe thead th {\n",
              "        text-align: right;\n",
              "    }\n",
              "</style>\n",
              "<table border=\"1\" class=\"dataframe\">\n",
              "  <thead>\n",
              "    <tr style=\"text-align: right;\">\n",
              "      <th></th>\n",
              "      <th>id</th>\n",
              "      <th>date</th>\n",
              "      <th>price</th>\n",
              "      <th>bedrooms</th>\n",
              "      <th>bathrooms</th>\n",
              "      <th>sqft_living</th>\n",
              "      <th>sqft_lot</th>\n",
              "      <th>floors</th>\n",
              "      <th>waterfront</th>\n",
              "      <th>view</th>\n",
              "      <th>...</th>\n",
              "      <th>grade</th>\n",
              "      <th>sqft_above</th>\n",
              "      <th>sqft_basement</th>\n",
              "      <th>yr_built</th>\n",
              "      <th>yr_renovated</th>\n",
              "      <th>zipcode</th>\n",
              "      <th>lat</th>\n",
              "      <th>long</th>\n",
              "      <th>sqft_living15</th>\n",
              "      <th>sqft_lot15</th>\n",
              "    </tr>\n",
              "  </thead>\n",
              "  <tbody>\n",
              "    <tr>\n",
              "      <th>0</th>\n",
              "      <td>7129300520</td>\n",
              "      <td>10/13/2014</td>\n",
              "      <td>221900.0</td>\n",
              "      <td>3</td>\n",
              "      <td>1.00</td>\n",
              "      <td>1180</td>\n",
              "      <td>5650</td>\n",
              "      <td>1.0</td>\n",
              "      <td>NaN</td>\n",
              "      <td>0.0</td>\n",
              "      <td>...</td>\n",
              "      <td>7</td>\n",
              "      <td>1180</td>\n",
              "      <td>0.0</td>\n",
              "      <td>1955</td>\n",
              "      <td>0.0</td>\n",
              "      <td>98178</td>\n",
              "      <td>47.5112</td>\n",
              "      <td>-122.257</td>\n",
              "      <td>1340</td>\n",
              "      <td>5650</td>\n",
              "    </tr>\n",
              "    <tr>\n",
              "      <th>1</th>\n",
              "      <td>6414100192</td>\n",
              "      <td>12/9/2014</td>\n",
              "      <td>538000.0</td>\n",
              "      <td>3</td>\n",
              "      <td>2.25</td>\n",
              "      <td>2570</td>\n",
              "      <td>7242</td>\n",
              "      <td>2.0</td>\n",
              "      <td>0.0</td>\n",
              "      <td>0.0</td>\n",
              "      <td>...</td>\n",
              "      <td>7</td>\n",
              "      <td>2170</td>\n",
              "      <td>400.0</td>\n",
              "      <td>1951</td>\n",
              "      <td>1991.0</td>\n",
              "      <td>98125</td>\n",
              "      <td>47.7210</td>\n",
              "      <td>-122.319</td>\n",
              "      <td>1690</td>\n",
              "      <td>7639</td>\n",
              "    </tr>\n",
              "    <tr>\n",
              "      <th>2</th>\n",
              "      <td>5631500400</td>\n",
              "      <td>2/25/2015</td>\n",
              "      <td>180000.0</td>\n",
              "      <td>2</td>\n",
              "      <td>1.00</td>\n",
              "      <td>770</td>\n",
              "      <td>10000</td>\n",
              "      <td>1.0</td>\n",
              "      <td>0.0</td>\n",
              "      <td>0.0</td>\n",
              "      <td>...</td>\n",
              "      <td>6</td>\n",
              "      <td>770</td>\n",
              "      <td>0.0</td>\n",
              "      <td>1933</td>\n",
              "      <td>NaN</td>\n",
              "      <td>98028</td>\n",
              "      <td>47.7379</td>\n",
              "      <td>-122.233</td>\n",
              "      <td>2720</td>\n",
              "      <td>8062</td>\n",
              "    </tr>\n",
              "    <tr>\n",
              "      <th>3</th>\n",
              "      <td>2487200875</td>\n",
              "      <td>12/9/2014</td>\n",
              "      <td>604000.0</td>\n",
              "      <td>4</td>\n",
              "      <td>3.00</td>\n",
              "      <td>1960</td>\n",
              "      <td>5000</td>\n",
              "      <td>1.0</td>\n",
              "      <td>0.0</td>\n",
              "      <td>0.0</td>\n",
              "      <td>...</td>\n",
              "      <td>7</td>\n",
              "      <td>1050</td>\n",
              "      <td>910.0</td>\n",
              "      <td>1965</td>\n",
              "      <td>0.0</td>\n",
              "      <td>98136</td>\n",
              "      <td>47.5208</td>\n",
              "      <td>-122.393</td>\n",
              "      <td>1360</td>\n",
              "      <td>5000</td>\n",
              "    </tr>\n",
              "    <tr>\n",
              "      <th>4</th>\n",
              "      <td>1954400510</td>\n",
              "      <td>2/18/2015</td>\n",
              "      <td>510000.0</td>\n",
              "      <td>3</td>\n",
              "      <td>2.00</td>\n",
              "      <td>1680</td>\n",
              "      <td>8080</td>\n",
              "      <td>1.0</td>\n",
              "      <td>0.0</td>\n",
              "      <td>0.0</td>\n",
              "      <td>...</td>\n",
              "      <td>8</td>\n",
              "      <td>1680</td>\n",
              "      <td>0.0</td>\n",
              "      <td>1987</td>\n",
              "      <td>0.0</td>\n",
              "      <td>98074</td>\n",
              "      <td>47.6168</td>\n",
              "      <td>-122.045</td>\n",
              "      <td>1800</td>\n",
              "      <td>7503</td>\n",
              "    </tr>\n",
              "    <tr>\n",
              "      <th>5</th>\n",
              "      <td>7237550310</td>\n",
              "      <td>5/12/2014</td>\n",
              "      <td>1230000.0</td>\n",
              "      <td>4</td>\n",
              "      <td>4.50</td>\n",
              "      <td>5420</td>\n",
              "      <td>101930</td>\n",
              "      <td>1.0</td>\n",
              "      <td>0.0</td>\n",
              "      <td>0.0</td>\n",
              "      <td>...</td>\n",
              "      <td>11</td>\n",
              "      <td>3890</td>\n",
              "      <td>1530.0</td>\n",
              "      <td>2001</td>\n",
              "      <td>0.0</td>\n",
              "      <td>98053</td>\n",
              "      <td>47.6561</td>\n",
              "      <td>-122.005</td>\n",
              "      <td>4760</td>\n",
              "      <td>101930</td>\n",
              "    </tr>\n",
              "    <tr>\n",
              "      <th>6</th>\n",
              "      <td>1321400060</td>\n",
              "      <td>6/27/2014</td>\n",
              "      <td>257500.0</td>\n",
              "      <td>3</td>\n",
              "      <td>2.25</td>\n",
              "      <td>1715</td>\n",
              "      <td>6819</td>\n",
              "      <td>2.0</td>\n",
              "      <td>0.0</td>\n",
              "      <td>0.0</td>\n",
              "      <td>...</td>\n",
              "      <td>7</td>\n",
              "      <td>1715</td>\n",
              "      <td>?</td>\n",
              "      <td>1995</td>\n",
              "      <td>0.0</td>\n",
              "      <td>98003</td>\n",
              "      <td>47.3097</td>\n",
              "      <td>-122.327</td>\n",
              "      <td>2238</td>\n",
              "      <td>6819</td>\n",
              "    </tr>\n",
              "    <tr>\n",
              "      <th>7</th>\n",
              "      <td>2008000270</td>\n",
              "      <td>1/15/2015</td>\n",
              "      <td>291850.0</td>\n",
              "      <td>3</td>\n",
              "      <td>1.50</td>\n",
              "      <td>1060</td>\n",
              "      <td>9711</td>\n",
              "      <td>1.0</td>\n",
              "      <td>0.0</td>\n",
              "      <td>NaN</td>\n",
              "      <td>...</td>\n",
              "      <td>7</td>\n",
              "      <td>1060</td>\n",
              "      <td>0.0</td>\n",
              "      <td>1963</td>\n",
              "      <td>0.0</td>\n",
              "      <td>98198</td>\n",
              "      <td>47.4095</td>\n",
              "      <td>-122.315</td>\n",
              "      <td>1650</td>\n",
              "      <td>9711</td>\n",
              "    </tr>\n",
              "    <tr>\n",
              "      <th>8</th>\n",
              "      <td>2414600126</td>\n",
              "      <td>4/15/2015</td>\n",
              "      <td>229500.0</td>\n",
              "      <td>3</td>\n",
              "      <td>1.00</td>\n",
              "      <td>1780</td>\n",
              "      <td>7470</td>\n",
              "      <td>1.0</td>\n",
              "      <td>0.0</td>\n",
              "      <td>0.0</td>\n",
              "      <td>...</td>\n",
              "      <td>7</td>\n",
              "      <td>1050</td>\n",
              "      <td>730.0</td>\n",
              "      <td>1960</td>\n",
              "      <td>0.0</td>\n",
              "      <td>98146</td>\n",
              "      <td>47.5123</td>\n",
              "      <td>-122.337</td>\n",
              "      <td>1780</td>\n",
              "      <td>8113</td>\n",
              "    </tr>\n",
              "    <tr>\n",
              "      <th>9</th>\n",
              "      <td>3793500160</td>\n",
              "      <td>3/12/2015</td>\n",
              "      <td>323000.0</td>\n",
              "      <td>3</td>\n",
              "      <td>2.50</td>\n",
              "      <td>1890</td>\n",
              "      <td>6560</td>\n",
              "      <td>2.0</td>\n",
              "      <td>0.0</td>\n",
              "      <td>0.0</td>\n",
              "      <td>...</td>\n",
              "      <td>7</td>\n",
              "      <td>1890</td>\n",
              "      <td>0.0</td>\n",
              "      <td>2003</td>\n",
              "      <td>0.0</td>\n",
              "      <td>98038</td>\n",
              "      <td>47.3684</td>\n",
              "      <td>-122.031</td>\n",
              "      <td>2390</td>\n",
              "      <td>7570</td>\n",
              "    </tr>\n",
              "  </tbody>\n",
              "</table>\n",
              "<p>10 rows × 21 columns</p>\n",
              "</div>\n",
              "    <div class=\"colab-df-buttons\">\n",
              "\n",
              "  <div class=\"colab-df-container\">\n",
              "    <button class=\"colab-df-convert\" onclick=\"convertToInteractive('df-4e3c0ba3-1ea8-4fce-aec0-20c54e6bb83f')\"\n",
              "            title=\"Convert this dataframe to an interactive table.\"\n",
              "            style=\"display:none;\">\n",
              "\n",
              "  <svg xmlns=\"http://www.w3.org/2000/svg\" height=\"24px\" viewBox=\"0 -960 960 960\">\n",
              "    <path d=\"M120-120v-720h720v720H120Zm60-500h600v-160H180v160Zm220 220h160v-160H400v160Zm0 220h160v-160H400v160ZM180-400h160v-160H180v160Zm440 0h160v-160H620v160ZM180-180h160v-160H180v160Zm440 0h160v-160H620v160Z\"/>\n",
              "  </svg>\n",
              "    </button>\n",
              "\n",
              "  <style>\n",
              "    .colab-df-container {\n",
              "      display:flex;\n",
              "      gap: 12px;\n",
              "    }\n",
              "\n",
              "    .colab-df-convert {\n",
              "      background-color: #E8F0FE;\n",
              "      border: none;\n",
              "      border-radius: 50%;\n",
              "      cursor: pointer;\n",
              "      display: none;\n",
              "      fill: #1967D2;\n",
              "      height: 32px;\n",
              "      padding: 0 0 0 0;\n",
              "      width: 32px;\n",
              "    }\n",
              "\n",
              "    .colab-df-convert:hover {\n",
              "      background-color: #E2EBFA;\n",
              "      box-shadow: 0px 1px 2px rgba(60, 64, 67, 0.3), 0px 1px 3px 1px rgba(60, 64, 67, 0.15);\n",
              "      fill: #174EA6;\n",
              "    }\n",
              "\n",
              "    .colab-df-buttons div {\n",
              "      margin-bottom: 4px;\n",
              "    }\n",
              "\n",
              "    [theme=dark] .colab-df-convert {\n",
              "      background-color: #3B4455;\n",
              "      fill: #D2E3FC;\n",
              "    }\n",
              "\n",
              "    [theme=dark] .colab-df-convert:hover {\n",
              "      background-color: #434B5C;\n",
              "      box-shadow: 0px 1px 3px 1px rgba(0, 0, 0, 0.15);\n",
              "      filter: drop-shadow(0px 1px 2px rgba(0, 0, 0, 0.3));\n",
              "      fill: #FFFFFF;\n",
              "    }\n",
              "  </style>\n",
              "\n",
              "    <script>\n",
              "      const buttonEl =\n",
              "        document.querySelector('#df-4e3c0ba3-1ea8-4fce-aec0-20c54e6bb83f button.colab-df-convert');\n",
              "      buttonEl.style.display =\n",
              "        google.colab.kernel.accessAllowed ? 'block' : 'none';\n",
              "\n",
              "      async function convertToInteractive(key) {\n",
              "        const element = document.querySelector('#df-4e3c0ba3-1ea8-4fce-aec0-20c54e6bb83f');\n",
              "        const dataTable =\n",
              "          await google.colab.kernel.invokeFunction('convertToInteractive',\n",
              "                                                    [key], {});\n",
              "        if (!dataTable) return;\n",
              "\n",
              "        const docLinkHtml = 'Like what you see? Visit the ' +\n",
              "          '<a target=\"_blank\" href=https://colab.research.google.com/notebooks/data_table.ipynb>data table notebook</a>'\n",
              "          + ' to learn more about interactive tables.';\n",
              "        element.innerHTML = '';\n",
              "        dataTable['output_type'] = 'display_data';\n",
              "        await google.colab.output.renderOutput(dataTable, element);\n",
              "        const docLink = document.createElement('div');\n",
              "        docLink.innerHTML = docLinkHtml;\n",
              "        element.appendChild(docLink);\n",
              "      }\n",
              "    </script>\n",
              "  </div>\n",
              "\n",
              "\n",
              "<div id=\"df-3c769a22-27f6-4571-8206-1daad0bf81a2\">\n",
              "  <button class=\"colab-df-quickchart\" onclick=\"quickchart('df-3c769a22-27f6-4571-8206-1daad0bf81a2')\"\n",
              "            title=\"Suggest charts\"\n",
              "            style=\"display:none;\">\n",
              "\n",
              "<svg xmlns=\"http://www.w3.org/2000/svg\" height=\"24px\"viewBox=\"0 0 24 24\"\n",
              "     width=\"24px\">\n",
              "    <g>\n",
              "        <path d=\"M19 3H5c-1.1 0-2 .9-2 2v14c0 1.1.9 2 2 2h14c1.1 0 2-.9 2-2V5c0-1.1-.9-2-2-2zM9 17H7v-7h2v7zm4 0h-2V7h2v10zm4 0h-2v-4h2v4z\"/>\n",
              "    </g>\n",
              "</svg>\n",
              "  </button>\n",
              "\n",
              "<style>\n",
              "  .colab-df-quickchart {\n",
              "      --bg-color: #E8F0FE;\n",
              "      --fill-color: #1967D2;\n",
              "      --hover-bg-color: #E2EBFA;\n",
              "      --hover-fill-color: #174EA6;\n",
              "      --disabled-fill-color: #AAA;\n",
              "      --disabled-bg-color: #DDD;\n",
              "  }\n",
              "\n",
              "  [theme=dark] .colab-df-quickchart {\n",
              "      --bg-color: #3B4455;\n",
              "      --fill-color: #D2E3FC;\n",
              "      --hover-bg-color: #434B5C;\n",
              "      --hover-fill-color: #FFFFFF;\n",
              "      --disabled-bg-color: #3B4455;\n",
              "      --disabled-fill-color: #666;\n",
              "  }\n",
              "\n",
              "  .colab-df-quickchart {\n",
              "    background-color: var(--bg-color);\n",
              "    border: none;\n",
              "    border-radius: 50%;\n",
              "    cursor: pointer;\n",
              "    display: none;\n",
              "    fill: var(--fill-color);\n",
              "    height: 32px;\n",
              "    padding: 0;\n",
              "    width: 32px;\n",
              "  }\n",
              "\n",
              "  .colab-df-quickchart:hover {\n",
              "    background-color: var(--hover-bg-color);\n",
              "    box-shadow: 0 1px 2px rgba(60, 64, 67, 0.3), 0 1px 3px 1px rgba(60, 64, 67, 0.15);\n",
              "    fill: var(--button-hover-fill-color);\n",
              "  }\n",
              "\n",
              "  .colab-df-quickchart-complete:disabled,\n",
              "  .colab-df-quickchart-complete:disabled:hover {\n",
              "    background-color: var(--disabled-bg-color);\n",
              "    fill: var(--disabled-fill-color);\n",
              "    box-shadow: none;\n",
              "  }\n",
              "\n",
              "  .colab-df-spinner {\n",
              "    border: 2px solid var(--fill-color);\n",
              "    border-color: transparent;\n",
              "    border-bottom-color: var(--fill-color);\n",
              "    animation:\n",
              "      spin 1s steps(1) infinite;\n",
              "  }\n",
              "\n",
              "  @keyframes spin {\n",
              "    0% {\n",
              "      border-color: transparent;\n",
              "      border-bottom-color: var(--fill-color);\n",
              "      border-left-color: var(--fill-color);\n",
              "    }\n",
              "    20% {\n",
              "      border-color: transparent;\n",
              "      border-left-color: var(--fill-color);\n",
              "      border-top-color: var(--fill-color);\n",
              "    }\n",
              "    30% {\n",
              "      border-color: transparent;\n",
              "      border-left-color: var(--fill-color);\n",
              "      border-top-color: var(--fill-color);\n",
              "      border-right-color: var(--fill-color);\n",
              "    }\n",
              "    40% {\n",
              "      border-color: transparent;\n",
              "      border-right-color: var(--fill-color);\n",
              "      border-top-color: var(--fill-color);\n",
              "    }\n",
              "    60% {\n",
              "      border-color: transparent;\n",
              "      border-right-color: var(--fill-color);\n",
              "    }\n",
              "    80% {\n",
              "      border-color: transparent;\n",
              "      border-right-color: var(--fill-color);\n",
              "      border-bottom-color: var(--fill-color);\n",
              "    }\n",
              "    90% {\n",
              "      border-color: transparent;\n",
              "      border-bottom-color: var(--fill-color);\n",
              "    }\n",
              "  }\n",
              "</style>\n",
              "\n",
              "  <script>\n",
              "    async function quickchart(key) {\n",
              "      const quickchartButtonEl =\n",
              "        document.querySelector('#' + key + ' button');\n",
              "      quickchartButtonEl.disabled = true;  // To prevent multiple clicks.\n",
              "      quickchartButtonEl.classList.add('colab-df-spinner');\n",
              "      try {\n",
              "        const charts = await google.colab.kernel.invokeFunction(\n",
              "            'suggestCharts', [key], {});\n",
              "      } catch (error) {\n",
              "        console.error('Error during call to suggestCharts:', error);\n",
              "      }\n",
              "      quickchartButtonEl.classList.remove('colab-df-spinner');\n",
              "      quickchartButtonEl.classList.add('colab-df-quickchart-complete');\n",
              "    }\n",
              "    (() => {\n",
              "      let quickchartButtonEl =\n",
              "        document.querySelector('#df-3c769a22-27f6-4571-8206-1daad0bf81a2 button');\n",
              "      quickchartButtonEl.style.display =\n",
              "        google.colab.kernel.accessAllowed ? 'block' : 'none';\n",
              "    })();\n",
              "  </script>\n",
              "</div>\n",
              "\n",
              "    </div>\n",
              "  </div>\n"
            ],
            "application/vnd.google.colaboratory.intrinsic+json": {
              "type": "dataframe",
              "variable_name": "data"
            }
          },
          "metadata": {},
          "execution_count": 5
        }
      ],
      "source": [
        "import pandas as pd\n",
        "from google.colab import drive\n",
        "from google.colab import data_table\n",
        "import matplotlib.pyplot as plt\n",
        "data_table.enable_dataframe_formatter()\n",
        "\n",
        "drive.mount('/content/drive')\n",
        "data = pd.read_csv(\"//content/kc_house_price_data.csv\")\n",
        "\n",
        "data.head(10)"
      ]
    },
    {
      "cell_type": "markdown",
      "source": [
        "Description of the dataset\n",
        "* id: a notation for a house\n",
        "* date: Date house was sold\n",
        "* price: Price is prediction target\n",
        "* bedrooms: Number of Bedrooms/House\n",
        "* bathrooms: Number of bathrooms/bedrooms\n",
        "* sqft_living: square footage of the home\n",
        "* sqft_lot: square footage of the lot\n",
        "* floors: Total floors (levels) in house\n",
        "* waterfront: House which has a view to a waterfront\n",
        "* view: Has been viewed\n",
        "* condition: How good the condition is Overall\n",
        "* grade: overall grade given to the housing unit, based on King County grading system\n",
        "* sqft_above: square footage of house apart from basement\n",
        "* sqft_basement: square footage of the basement\n",
        "* yr_built: Built Year\n",
        "* yr_renovated: Year when house was renovated\n",
        "* zipcode: zip code\n",
        "* lat: Latitude coordinate\n",
        "* long: Longitude coordinate"
      ],
      "metadata": {
        "id": "Zr8vjVS71BXV"
      }
    },
    {
      "cell_type": "markdown",
      "source": [
        "See chapters 1 & 2 for all questions below!\n",
        "\n",
        "What is a machine learning pipeline? Please make a fictitious example that is appropriate for our data set.\n",
        "\n",
        "Is our task a a supervised, unsupervised, semi-supervised, self-supervised, or reinforcement learning task? Is it a classification or regression task? Do we use batch or online learning?\n",
        "\n",
        "What is a performance measure? Give two typical examples of performance measures in regression models. How can these be interpreted in a linear regression?\n"
      ],
      "metadata": {
        "id": "0EWqRqc95C3I"
      }
    },
    {
      "cell_type": "markdown",
      "source": [
        "##Take a Quick Look at the Data Structure\n",
        "\n",
        "Try to use the functions *head()*, *describe()* and *info()* to get further informations of the dataset. Additional use *value_counts()* to get all possible values of one variable. For all variables, consider whether they are categorical, ordinal, or numeric! Do you notice anything about the variable waterfront when you compare it with the variable renovated?"
      ],
      "metadata": {
        "id": "EuTVSig2g-xL"
      }
    },
    {
      "cell_type": "code",
      "source": [
        "kc_house_data.head()"
      ],
      "metadata": {
        "id": "nl2V-_eTSBk7",
        "colab": {
          "base_uri": "https://localhost:8080/",
          "height": 139
        },
        "outputId": "4f73344c-3d77-47ed-866f-77223ddb84a5"
      },
      "execution_count": 6,
      "outputs": [
        {
          "output_type": "error",
          "ename": "NameError",
          "evalue": "name 'kc_house_data' is not defined",
          "traceback": [
            "\u001b[0;31m---------------------------------------------------------------------------\u001b[0m",
            "\u001b[0;31mNameError\u001b[0m                                 Traceback (most recent call last)",
            "\u001b[0;32m<ipython-input-6-0576fede113a>\u001b[0m in \u001b[0;36m<cell line: 0>\u001b[0;34m()\u001b[0m\n\u001b[0;32m----> 1\u001b[0;31m \u001b[0mkc_house_data\u001b[0m\u001b[0;34m.\u001b[0m\u001b[0mhead\u001b[0m\u001b[0;34m(\u001b[0m\u001b[0;34m)\u001b[0m\u001b[0;34m\u001b[0m\u001b[0;34m\u001b[0m\u001b[0m\n\u001b[0m",
            "\u001b[0;31mNameError\u001b[0m: name 'kc_house_data' is not defined"
          ]
        }
      ]
    },
    {
      "cell_type": "markdown",
      "source": [
        "Try to visualize the distributions of all the variables. Are some distributions skewed? What is right-skewed or left-skewed? Do the scales of the different variables differ? What do you notice with the variable *yr_renovated*?"
      ],
      "metadata": {
        "id": "qblhktP2UyjS"
      }
    },
    {
      "cell_type": "code",
      "source": [
        "import matplotlib.pyplot as plt\n",
        "\n",
        "# Your Task\n",
        "plt.show()"
      ],
      "metadata": {
        "id": "s-VqnAPZRX7Z"
      },
      "execution_count": null,
      "outputs": []
    },
    {
      "cell_type": "markdown",
      "source": [
        "Unrenovated houses have the entry 0. With which variable could we replace the entry 0?\n",
        "\n",
        "Your task is to clean the dataset:\n",
        "\n",
        "1. Divide the variable *yr_renovated* into two variables.\n",
        "2. Create a binary variable that indicates whether the house has been renovated or not. (0 = no renovation, 1 = renovated) You can use the *np.where* function.\n",
        "3. Additionally overwrite the variable *yr_renovated* with the maximum of yr_renovated and yr_built, you can use the max() function.\n",
        "4. Change the *date* column to *datetime* with the function *to_datetime()*."
      ],
      "metadata": {
        "id": "Typ7TEEm4vhK"
      }
    },
    {
      "cell_type": "code",
      "source": [
        "import numpy as np\n",
        "\n",
        "data['renovated'] = # Your Task\n",
        "data['yr_renovated'] = # Your Task\n",
        "data['date'] = # Your Task\n"
      ],
      "metadata": {
        "id": "L-uNXqO_xQZ4"
      },
      "execution_count": null,
      "outputs": []
    },
    {
      "cell_type": "markdown",
      "source": [
        "##Create a Test Set\n",
        "\n",
        "Try to explain what a *stratified sampling* is. Try to create a stratified train and test set, which should be named *train_set* and *test_set*. Create an extra column for this, which divides the house prices from the dataset into different categories. At the end, overwrite your dataset with the training dataset with *data = train_set.copy()*."
      ],
      "metadata": {
        "id": "h49GWzJnhZQK"
      }
    },
    {
      "cell_type": "code",
      "source": [
        "from sklearn.model_selection import train_test_split\n",
        "\n",
        "data['price_cat'] = # Your Task\n",
        "\n",
        "train_set, test_set = train_test_split(data, # Your Task)\n",
        "\n",
        "train_set = train_set.drop('price_cat', axis=1)\n",
        "test_set = test_set.drop('price_cat', axis=1)"
      ],
      "metadata": {
        "id": "JliA_yyunK09"
      },
      "execution_count": null,
      "outputs": []
    },
    {
      "cell_type": "code",
      "source": [
        "data = train_set.copy()\n",
        "data.head(50)"
      ],
      "metadata": {
        "id": "CuVCysJPrype"
      },
      "execution_count": null,
      "outputs": []
    },
    {
      "cell_type": "markdown",
      "source": [
        "##Explore and Visualize the Data to Gain Insights\n",
        "\n",
        "First, try to visualize the geographic dates from our dataset in a scatter plot. Where are the expensive houses located? For example, you can use a logarithmic color bar to see where it is cheaper and more expensive. Consider how to combine the 'lat' and 'long' features into a simpler feature. (No implementation, but a consideration is sufficient)."
      ],
      "metadata": {
        "id": "2eivszboqBAD"
      }
    },
    {
      "cell_type": "code",
      "source": [
        "import matplotlib.pyplot as plt\n",
        "from matplotlib import colors\n",
        "import numpy as np\n",
        "\n",
        "# Your Task"
      ],
      "metadata": {
        "colab": {
          "base_uri": "https://localhost:8080/",
          "height": 431
        },
        "id": "w-9DUNsNsTyn",
        "outputId": "acbce55d-0405-4c50-83cd-f7beb7d2b24f"
      },
      "execution_count": null,
      "outputs": [
        {
          "output_type": "display_data",
          "data": {
            "text/plain": [
              "<Figure size 640x480 with 2 Axes>"
            ],
            "image/png": "[encoded data removed]"
          },
          "metadata": {}
        }
      ]
    },
    {
      "cell_type": "markdown",
      "source": [
        "### Correlations\n",
        "\n",
        "Since the dataset does not have so many features, it is quite easy to calculate the correlations of these. Please calculate all meaningful standard correlation effects. How can the values of this correlation effect be interpreted? What are probably the best variables to predict? For which variables does the Pearson coefficient make sense and for which not?"
      ],
      "metadata": {
        "id": "OERkW3jzqA5A"
      }
    },
    {
      "cell_type": "code",
      "source": [
        "corr_matrix = # Your Task"
      ],
      "metadata": {
        "id": "jLRDbB7B1gVQ"
      },
      "execution_count": null,
      "outputs": []
    },
    {
      "cell_type": "markdown",
      "source": [
        "Additionally, create a scatter plot for the most important features using the Pandas scatter_matrix() function. What do you notice about the variables sqft_living, sqft_above and sqft_basement?"
      ],
      "metadata": {
        "id": "61Y0SDte6Erc"
      }
    },
    {
      "cell_type": "code",
      "source": [
        "from pandas.plotting import scatter_matrix\n",
        "attributes = # Your Task\n",
        "scatter_matrix(# Your Task)\n",
        "plt.show()"
      ],
      "metadata": {
        "id": "qMD0qNMK2Jow"
      },
      "execution_count": null,
      "outputs": []
    },
    {
      "cell_type": "markdown",
      "source": [
        "## Experiment with Attribute Combinations\n",
        "\n",
        "Try to combine the columns bedrooms, sqft_living by calculating the bedroom density, i.e. *bedrooms/sqft_living*. Check the new Pearson Correlation coefficients.\n"
      ],
      "metadata": {
        "id": "RYPn6pNU75Db"
      }
    },
    {
      "cell_type": "code",
      "source": [
        "data['bedroom_density'] = # Your Task\n",
        "\n",
        "corr_matrix = data.corr(numeric_only = True)\n",
        "corr_matrix[\"price\"].sort_values(ascending=False)"
      ],
      "metadata": {
        "id": "q9lOfs228qjq"
      },
      "execution_count": null,
      "outputs": []
    },
    {
      "cell_type": "markdown",
      "source": [
        "##Prepare the Data for Machine Learning Algorithms"
      ],
      "metadata": {
        "id": "6S-L1RdgDDD0"
      }
    },
    {
      "cell_type": "markdown",
      "source": [
        "In the first step, we separate our trainings dataset with our labeled dataset."
      ],
      "metadata": {
        "id": "xuzM0jyGFjEs"
      }
    },
    {
      "cell_type": "code",
      "source": [
        "data = train_set.drop(\"price\", axis=1)\n",
        "data_label = train_set[[\"price\"]].copy()"
      ],
      "metadata": {
        "id": "C0EgPFu0D7Au"
      },
      "execution_count": null,
      "outputs": []
    },
    {
      "cell_type": "markdown",
      "source": [
        "###Missing Data\n",
        "\n",
        "What options do we have to deal with missing values? What options do we have to deal with missing values? Write a code that give all lines, which have any missing value. What is the function *SimpleImputer(strategy=\"median\")* doing?"
      ],
      "metadata": {
        "id": "lIA5iN1pFgz7"
      }
    },
    {
      "cell_type": "code",
      "source": [
        "# Your Task"
      ],
      "metadata": {
        "id": "B2GJs8Sp5kfB"
      },
      "execution_count": null,
      "outputs": []
    },
    {
      "cell_type": "markdown",
      "source": [
        "###Handling Text and Categorical Attributes\n"
      ],
      "metadata": {
        "id": "ESJiMKe5PWlE"
      }
    },
    {
      "cell_type": "markdown",
      "source": [
        "What are ordinal and categorical data? Do we have such data in our data set? What possibilities do we have to transform this data correctly? What are dummy attributes? Try to understand what the function *OneHotEncoder()* does with the variable zipcode."
      ],
      "metadata": {
        "id": "mbFMmQmEeU6P"
      }
    },
    {
      "cell_type": "code",
      "source": [
        "from sklearn.preprocessing import OneHotEncoder\n",
        "cat_encoder = OneHotEncoder()\n",
        "\n",
        "zipcode_encoded = # Your Task\n",
        "zipcode_encoded"
      ],
      "metadata": {
        "id": "7gHbxQ1mPVjt"
      },
      "execution_count": null,
      "outputs": []
    },
    {
      "cell_type": "markdown",
      "source": [
        "##Feature Scaling and Transformation"
      ],
      "metadata": {
        "id": "ptt3_Jt6jP0Q"
      }
    },
    {
      "cell_type": "markdown",
      "source": [
        "What is min-max scaling and standardization of features? What is a heavy tail in a distribution? What problem do we have with min-max scaling and standardization on a heavy-tailed distribution? Can you make an example?"
      ],
      "metadata": {
        "id": "TspxADyqwjHX"
      }
    },
    {
      "cell_type": "markdown",
      "source": [
        "Try to brainstorm which variable conversion makes sense for which variable! Write down your guess! Try to understand the following two code blocks, how are the variables *long* and *lat* converted?"
      ],
      "metadata": {
        "id": "DTE43CjSNCxZ"
      }
    },
    {
      "cell_type": "code",
      "source": [
        "from sklearn.cluster import KMeans\n",
        "from sklearn.metrics.pairwise import rbf_kernel\n",
        "from sklearn.base import BaseEstimator, TransformerMixin\n",
        "\n",
        "class ClusterSimilarity(BaseEstimator, TransformerMixin):\n",
        "    def __init__(self, n_clusters=10, gamma=1.0, random_state=None):\n",
        "        self.n_clusters = n_clusters\n",
        "        self.gamma = gamma\n",
        "        self.random_state = random_state\n",
        "\n",
        "    def fit(self, X, y=None, sample_weight=None):\n",
        "        self.kmeans_ = KMeans(self.n_clusters, random_state=self.random_state, n_init=10)\n",
        "        self.kmeans_.fit(X, sample_weight=sample_weight)\n",
        "        return self\n",
        "\n",
        "    def transform(self, X):\n",
        "        return rbf_kernel(X, self.kmeans_.cluster_centers_, gamma=self.gamma)\n",
        "\n",
        "    def get_feature_names_out(self, names=None):\n",
        "        return [f\"Cluster {i} similarity\" for i in range(self.n_clusters)]\n"
      ],
      "metadata": {
        "id": "FYSwa_7bF_do"
      },
      "execution_count": null,
      "outputs": []
    },
    {
      "cell_type": "code",
      "source": [
        "cluster_simil = ClusterSimilarity(n_clusters=7, gamma=100., random_state=42)\n",
        "similarities = cluster_simil.fit_transform(data[[\"lat\", \"long\"]],\n",
        "                                           sample_weight=data_label[\"price\"])\n",
        "\n",
        "data_renamed = data.rename(columns={\n",
        "    \"lat\": \"Latitude\", \"long\": \"Longitude\"})\n",
        "\n",
        "data_renamed[\"Max cluster similarity\"] = similarities.max(axis=1)\n",
        "\n",
        "data_renamed.plot(kind=\"scatter\", x=\"Longitude\", y=\"Latitude\", grid=True,\n",
        "                     c=\"Max cluster similarity\",\n",
        "                     cmap=\"jet\", colorbar=True,\n",
        "                     legend=True, sharex=False, figsize=(10, 7))\n",
        "plt.plot(cluster_simil.kmeans_.cluster_centers_[:, 1],\n",
        "         cluster_simil.kmeans_.cluster_centers_[:, 0],\n",
        "         linestyle=\"\", color=\"black\", marker=\"X\", markersize=20,\n",
        "         label=\"Cluster centers\")\n",
        "plt.legend(loc=\"upper right\")\n",
        "\n",
        "plt.show()"
      ],
      "metadata": {
        "id": "XTPORXazcxvt"
      },
      "execution_count": null,
      "outputs": []
    },
    {
      "cell_type": "markdown",
      "source": [
        "Have a look at my suggestion of variable conversion. I ask you to understand the code in detail, what variable transformations have I made? What arguments are in favor, and what arguments might be against? How would you convert the variables if you compare it with your guess?"
      ],
      "metadata": {
        "id": "H2Dtf-l_PX3i"
      }
    },
    {
      "cell_type": "code",
      "source": [
        "from sklearn.compose import ColumnTransformer\n",
        "from sklearn.pipeline import make_pipeline\n",
        "from sklearn.preprocessing import FunctionTransformer\n",
        "from sklearn.preprocessing import StandardScaler\n",
        "import numpy as np\n",
        "from sklearn.preprocessing import OneHotEncoder\n",
        "\n",
        "# Datetime to seconds\n",
        "def datetime_to_seconds_since_now(X):\n",
        "    datetime_column = X[X.columns[0]]\n",
        "    time_difference = pd.Timestamp.now() - datetime_column\n",
        "    seconds_since_now = time_difference.dt.total_seconds()\n",
        "    return seconds_since_now.to_frame()\n",
        "\n",
        "date_pipeline = make_pipeline(\n",
        " FunctionTransformer(datetime_to_seconds_since_now),\n",
        " StandardScaler())\n",
        "\n",
        "# Lat/Long to cluster features\n",
        "cluster_simil = ClusterSimilarity(n_clusters=7, gamma=100., random_state=42)\n",
        "\n",
        "# Standard Pipeline\n",
        "default_num_pipeline = make_pipeline(StandardScaler())\n",
        "\n",
        "# Log + Standard Pipeline\n",
        "log_pipeline = make_pipeline(\n",
        " FunctionTransformer(np.log),\n",
        " StandardScaler())\n",
        "\n",
        "# Categorical Pipeline\n",
        "cat_pipeline = make_pipeline(OneHotEncoder(handle_unknown=\"ignore\"))\n",
        "\n",
        "preprocessing = ColumnTransformer([\n",
        " (\"log\", log_pipeline, [\"sqft_living\", \"sqft_lot\", \"sqft_above\"]),\n",
        " (\"geo\", cluster_simil, [\"lat\", \"long\"]),\n",
        " (\"date\", date_pipeline, [\"date\"]),\n",
        " ('binary', 'passthrough', [\"renovated\", \"waterfront\"]),\n",
        " (\"normal\", default_num_pipeline, [\"yr_built\", \"yr_renovated\", \"bedrooms\", \"bathrooms\", \"floors\", \"view\", \"condition\", \"grade\"])\n",
        " ], remainder='drop')"
      ],
      "metadata": {
        "id": "_bad6uecbinL"
      },
      "execution_count": null,
      "outputs": []
    },
    {
      "cell_type": "markdown",
      "source": [
        "How many features do we have for predicition after preprocessing? Let's run the following code an check!"
      ],
      "metadata": {
        "id": "2AvrG2WYixPr"
      }
    },
    {
      "cell_type": "code",
      "source": [
        "print(data.shape)\n",
        "print(data.columns)\n",
        "data_prepared = preprocessing.fit_transform(data)\n",
        "data_prepared.shape"
      ],
      "metadata": {
        "id": "t3K8Lj0_jBGP"
      },
      "execution_count": null,
      "outputs": []
    },
    {
      "cell_type": "markdown",
      "source": [
        "# Linear Regression"
      ],
      "metadata": {
        "id": "isvAiTBq_-n3"
      }
    },
    {
      "cell_type": "markdown",
      "source": [
        "To improve the performance of the linear regression, we logarithmize the output. The estimated prices must then be recalculated using the exponential function."
      ],
      "metadata": {
        "id": "e_ulZEK1WWqo"
      }
    },
    {
      "cell_type": "code",
      "source": [
        "from sklearn.linear_model import LinearRegression\n",
        "\n",
        "# Transform labels with logarithm to improve performance\n",
        "\n",
        "data_label_transformed = np.log(data_label)\n",
        "\n",
        "# Linear Regression Pipeline\n",
        "lin_reg = make_pipeline(preprocessing, LinearRegression())\n",
        "\n",
        "# Training Linear Regression\n",
        "lin_reg.fit(data, data_label_transformed)\n",
        "\n",
        "# Computation of Errors\n",
        "data_predictions = lin_reg.predict(data)"
      ],
      "metadata": {
        "id": "Njo5B5cz_-n3"
      },
      "execution_count": null,
      "outputs": []
    },
    {
      "cell_type": "markdown",
      "source": [
        "## Testing the linear model\n",
        "Your task is to determine the mean absolute error (MAE)  and the Root Mean Square Error (RMSE) using the the object `data_predictions` and `data_label`! Remember that estimates are logarithmic. Also calculate the median of all home prices. And try to evaluate all error values. How good is the model?"
      ],
      "metadata": {
        "id": "zId3ytBwAjd9"
      }
    },
    {
      "cell_type": "markdown",
      "source": [
        "## Training dataset"
      ],
      "metadata": {
        "id": "j6Vg31tY5EiZ"
      }
    },
    {
      "cell_type": "code",
      "source": [
        "# Mean Absolute Error\n",
        "mean_abs = # Your Task\n",
        "print(mean_abs)\n",
        "\n",
        "# Median Absolute Error\n",
        "median_abs = # Your Task\n",
        "print(median_abs)\n",
        "\n",
        "# Root Mean Squared Error\n",
        "rmse = # Your Task\n",
        "print(rmse)\n",
        "\n",
        "# Median of Labels\n",
        "median_prices = # Your Task\n",
        "print(median_prices)\n",
        "\n",
        "# Compute Median Absolute Error/Median of Labels\n",
        "print(median_abs/median_prices)"
      ],
      "metadata": {
        "id": "Zl2aTiZFAjd-"
      },
      "execution_count": null,
      "outputs": []
    },
    {
      "cell_type": "markdown",
      "source": [
        "##Test dataset"
      ],
      "metadata": {
        "id": "g-zPSMeOXUFU"
      }
    },
    {
      "cell_type": "code",
      "source": [
        "test_data = test_set.drop(\"price\", axis=1)\n",
        "test_label = test_set[[\"price\"]].copy()\n",
        "\n",
        "# Using the Linear Regression\n",
        "test_lr_predictions = lin_reg.predict(test_data)\n",
        "\n",
        "# Mean Absolute Error\n",
        "mean_abs = # Your Task\n",
        "print(mean_abs)\n",
        "\n",
        "# Median Absolute Error\n",
        "median_abs = # Your Task\n",
        "print(median_abs)\n",
        "\n",
        "# Root Mean Squared Error\n",
        "rmse = # Your Task\n",
        "print(rmse)"
      ],
      "metadata": {
        "id": "Ah70MJS2A40F"
      },
      "execution_count": null,
      "outputs": []
    },
    {
      "cell_type": "markdown",
      "source": [
        "* Now try to create a scatterplot with the real price from the test data set on the x-axis and the predicted price from our model on the y-axis. What can you observe?"
      ],
      "metadata": {
        "id": "v1WU7_ZEyWZk"
      }
    },
    {
      "cell_type": "code",
      "source": [
        "# Your Task"
      ],
      "metadata": {
        "id": "_r6OnM96yUt-"
      },
      "execution_count": null,
      "outputs": []
    },
    {
      "cell_type": "markdown",
      "source": [
        "## Further ideas for your learning process\n",
        "\n",
        "*   As in the book, I now ask you to integrate another machine learning algorithm, the random forest, accompanied by supplementary evaluation procedures such as k-cross fold validation. How does the random forest result compare to a linear regression?\n"
      ],
      "metadata": {
        "id": "YeID1Oli1wup"
      }
    },
    {
      "cell_type": "code",
      "source": [
        "# Your task"
      ],
      "metadata": {
        "id": "tW5fl1AG0ARE"
      },
      "execution_count": null,
      "outputs": []
    },
    {
      "cell_type": "markdown",
      "source": [
        "##Launch, Monitor, and Maintain Your System\n",
        "\n",
        "What package and code can we use to save and reload our model?\n",
        "\n",
        "Why is it possible that we need a monitoring code?\n",
        "\n",
        "Try to save our learned model so that we can reload it at any time."
      ],
      "metadata": {
        "id": "qt9Soak_tL0G"
      }
    },
    {
      "cell_type": "code",
      "source": [
        "import joblib\n",
        "\n",
        "# Your Task"
      ],
      "metadata": {
        "id": "QZZW-z0OMhLH"
      },
      "execution_count": null,
      "outputs": []
    }
  ]
}