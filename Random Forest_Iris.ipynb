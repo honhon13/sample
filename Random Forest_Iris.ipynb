{
  "nbformat": 4,
  "nbformat_minor": 0,
  "metadata": {
    "colab": {
      "provenance": [],
      "authorship_tag": "ABX9TyNF+7Tdc19e0ku62g5lGAW1",
      "include_colab_link": true
    },
    "kernelspec": {
      "name": "python3",
      "display_name": "Python 3"
    },
    "language_info": {
      "name": "python"
    }
  },
  "cells": [
    {
      "cell_type": "markdown",
      "metadata": {
        "id": "view-in-github",
        "colab_type": "text"
      },
      "source": [
        "<a href=\"https://colab.research.google.com/github/honhon13/sample/blob/main/Random%20Forest_Iris.ipynb\" target=\"_parent\"><img src=\"https://colab.research.google.com/assets/colab-badge.svg\" alt=\"Open In Colab\"/></a>"
      ]
    },
    {
      "cell_type": "code",
      "execution_count": null,
      "metadata": {
        "id": "h-J3THM2Nx9n"
      },
      "outputs": [],
      "source": []
    },
    {
      "cell_type": "code",
      "source": [
        "from sklearn.datasets import load_iris\n",
        "from sklearn.model_selection import train_test_split\n",
        "from sklearn.ensemble import RandomForestClassifier\n",
        "from sklearn.metrics import accuracy_score\n",
        "\n",
        "# 1. Daten laden\n",
        "iris = load_iris()\n",
        "X = iris.data\n",
        "y = iris.target\n",
        "\n",
        "# 2. Daten in Trainings- und Testdaten aufteilen\n",
        "X_train, X_test, y_train, y_test = train_test_split(X, y, test_size=0.3, random_state=42)\n",
        "\n",
        "# 3. Random Forest Modell erstellen\n",
        "model = RandomForestClassifier(n_estimators=100, random_state=42)\n",
        "\n",
        "# 4. Modell trainieren\n",
        "model.fit(X_train, y_train)\n",
        "\n",
        "# 5. Vorhersagen machen\n",
        "y_pred = model.predict(X_test)\n",
        "\n",
        "# 6. Genauigkeit ausgeben\n",
        "print(\"Genauigkeit:\", accuracy_score(y_test, y_pred))"
      ],
      "metadata": {
        "colab": {
          "base_uri": "https://localhost:8080/"
        },
        "id": "lnY-etUkOfIL",
        "outputId": "024a57ff-fac3-43a0-dc41-533bec5286aa"
      },
      "execution_count": 1,
      "outputs": [
        {
          "output_type": "stream",
          "name": "stdout",
          "text": [
            "Genauigkeit: 1.0\n"
          ]
        }
      ]
    },
    {
      "cell_type": "code",
      "source": [],
      "metadata": {
        "id": "JUqYAv78PMM4"
      },
      "execution_count": null,
      "outputs": []
    },
    {
      "cell_type": "code",
      "source": [
        "import matplotlib.pyplot as plt\n",
        "\n",
        "# Feature-Wichtigkeiten extrahieren\n",
        "importances = model.feature_importances_\n",
        "feature_names = iris.feature_names\n",
        "\n",
        "# Plot erstellen\n",
        "plt.figure(figsize=(8, 5))\n",
        "plt.barh(feature_names, importances)\n",
        "plt.xlabel(\"Feature-Wichtigkeit\")\n",
        "plt.title(\"Wichtigkeit der Merkmale im Random Forest\")\n",
        "plt.tight_layout()\n",
        "plt.show()"
      ],
      "metadata": {
        "colab": {
          "base_uri": "https://localhost:8080/",
          "height": 507
        },
        "id": "JVjvyn5MPQI9",
        "outputId": "dec5a1e1-6033-4ca0-af3e-ea24513cc3e9"
      },
      "execution_count": 2,
      "outputs": [
        {
          "output_type": "display_data",
          "data": {
            "text/plain": [
              "<Figure size 800x500 with 1 Axes>"
            ],
            "image/png": "[encoded data removed]"
          },
          "metadata": {}
        }
      ]
    },
    {
      "cell_type": "code",
      "source": [
        "from sklearn.datasets import make_regression\n",
        "from sklearn.ensemble import RandomForestRegressor\n",
        "from sklearn.model_selection import train_test_split\n",
        "from sklearn.metrics import mean_squared_error, r2_score\n",
        "\n",
        "# 1. Regressionsdaten erzeugen\n",
        "X, y = make_regression(n_samples=1000, n_features=5, noise=0.3, random_state=42)\n",
        "\n",
        "# 2. Aufteilen in Training und Test\n",
        "X_train, X_test, y_train, y_test = train_test_split(X, y, test_size=0.3, random_state=42)\n",
        "\n",
        "# 3. Modell trainieren\n",
        "reg_model = RandomForestRegressor(n_estimators=100, random_state=42)\n",
        "reg_model.fit(X_train, y_train)\n",
        "\n",
        "# 4. Vorhersage\n",
        "y_pred = reg_model.predict(X_test)\n",
        "\n",
        "# 5. Bewertung\n",
        "print(\"MSE:\", mean_squared_error(y_test, y_pred))\n",
        "print(\"R² Score:\", r2_score(y_test, y_pred))"
      ],
      "metadata": {
        "colab": {
          "base_uri": "https://localhost:8080/"
        },
        "id": "G5WzJRVMQkdq",
        "outputId": "ea82d816-b30f-459b-bc59-aa8bac553c13"
      },
      "execution_count": 3,
      "outputs": [
        {
          "output_type": "stream",
          "name": "stdout",
          "text": [
            "MSE: 333.69974125695524\n",
            "R² Score: 0.9173594438762289\n"
          ]
        }
      ]
    }
  ]
}